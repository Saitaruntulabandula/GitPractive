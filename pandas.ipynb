{
 "cells": [
  {
   "cell_type": "markdown",
   "metadata": {},
   "source": [
    "#pandas is a fast, powerful, flexible and easy to use open source data analysis and manipulation tool,\n",
    "built on top of the Python programming language.\n",
    "#Pandas is a Python library.Pandas is used to analyze data.\n",
    "1. Write a Python program to create and display a one-dimensional array-like object\n",
    "containing an array of data using Pandas module."
   ]
  },
  {
   "cell_type": "code",
   "execution_count": 17,
   "metadata": {},
   "outputs": [
    {
     "name": "stdout",
     "output_type": "stream",
     "text": [
      "0     2\n",
      "1     4\n",
      "2     6\n",
      "3     8\n",
      "4    10\n",
      "dtype: int64\n"
     ]
    }
   ],
   "source": [
    "import pandas as pd\n",
    "#Pandas Series is a one-dimensional labeled array capable of holding data of any type (integer, string, float, python objects, etc.). \n",
    "df = pd.Series([2, 4, 6, 8, 10])\n",
    "print(df)"
   ]
  },
  {
   "cell_type": "code",
   "execution_count": 1,
   "metadata": {},
   "outputs": [
    {
     "name": "stdout",
     "output_type": "stream",
     "text": [
      "     Name   Age\n",
      "3    Alex  10.0\n",
      "2     Bob  12.0\n",
      "1  Clarke  13.0\n"
     ]
    },
    {
     "name": "stderr",
     "output_type": "stream",
     "text": [
      "C:\\Users\\TARUN\\anaconda3\\lib\\site-packages\\IPython\\core\\interactiveshell.py:3444: FutureWarning: Could not cast to float64, falling back to object. This behavior is deprecated. In a future version, when a dtype is passed to 'DataFrame', either all columns will be cast to that dtype, or a TypeError will be raised\n",
      "  exec(code_obj, self.user_global_ns, self.user_ns)\n"
     ]
    }
   ],
   "source": [
    "import pandas as pd\n",
    "data = [['Alex',10],['Bob',12],['Clarke',13]]\n",
    "df = pd.DataFrame(data,index=[3,2,1],columns=['Name','Age'],dtype=float)\n",
    "print(df)"
   ]
  },
  {
   "cell_type": "markdown",
   "metadata": {},
   "source": [
    "2. Write a Python program to convert a Panda module Series to Python list and it's type."
   ]
  },
  {
   "cell_type": "code",
   "execution_count": 18,
   "metadata": {},
   "outputs": [
    {
     "name": "stdout",
     "output_type": "stream",
     "text": [
      "Pandas Series\n",
      "0     2\n",
      "1     4\n",
      "2     6\n",
      "3     8\n",
      "4    10\n",
      "dtype: int64\n",
      "Its Data type\n",
      "<class 'pandas.core.series.Series'>\n",
      "After converting Pandas Series to Python list\n",
      "Python list\n",
      "[2, 4, 6, 8, 10]\n",
      "Its Data type is <class 'list'>\n"
     ]
    }
   ],
   "source": [
    "import pandas as pd\n",
    "df = pd.Series([2, 4, 6, 8, 10])\n",
    "print(\"Pandas Series\")\n",
    "print(df)\n",
    "print(\"Its Data type\")\n",
    "print(type(df))\n",
    "print(\"After converting Pandas Series to Python list\")\n",
    "print(\"Python list\")\n",
    "#tolist(), used to convert the data elements of an array into a list. \n",
    "print(df.tolist())\n",
    "print(\"Its Data type is\",type(df.tolist()))"
   ]
  },
  {
   "cell_type": "markdown",
   "metadata": {},
   "source": [
    "3. Write a Python program to add, subtract, multiple and divide two Pandas Series.\n",
    "Sample Series: [2, 4, 6, 8, 10], [1, 3, 5, 7, 9]"
   ]
  },
  {
   "cell_type": "code",
   "execution_count": 19,
   "metadata": {},
   "outputs": [
    {
     "name": "stdout",
     "output_type": "stream",
     "text": [
      "Addion of two Series is:\n",
      "0     3\n",
      "1     7\n",
      "2    11\n",
      "3    15\n",
      "4    19\n",
      "dtype: int64\n",
      "Subtraction of two Series is:\n",
      "0    1\n",
      "1    1\n",
      "2    1\n",
      "3    1\n",
      "4    1\n",
      "dtype: int64\n",
      "Multiplication of two Series is:\n",
      "0     2\n",
      "1    12\n",
      "2    30\n",
      "3    56\n",
      "4    90\n",
      "dtype: int64\n",
      "Divide Series1 by Series2:\n",
      "0    2.000000\n",
      "1    1.333333\n",
      "2    1.200000\n",
      "3    1.142857\n",
      "4    1.111111\n",
      "dtype: float64\n"
     ]
    }
   ],
   "source": [
    "import pandas as pd\n",
    "df1 = pd.Series([2, 4, 6, 8, 10])\n",
    "df2 = pd.Series([1, 3, 5, 7, 9])\n",
    "df = df1 + df2\n",
    "print(\"Addion of two Series is:\")\n",
    "print(df)\n",
    "print(\"Subtraction of two Series is:\")\n",
    "df = df1 - df2\n",
    "print(df)\n",
    "print(\"Multiplication of two Series is:\")\n",
    "df = df1 * df2\n",
    "print(df)\n",
    "print(\"Divide Series1 by Series2:\")\n",
    "df = df1 / df2\n",
    "print(df)"
   ]
  },
  {
   "cell_type": "markdown",
   "metadata": {},
   "source": [
    "4. Write a Python program to get the powers of an array values element-wise.\n",
    "Note: First array elements raised to powers from second array."
   ]
  },
  {
   "cell_type": "code",
   "execution_count": 21,
   "metadata": {},
   "outputs": [
    {
     "name": "stdout",
     "output_type": "stream",
     "text": [
      "Original array \n",
      "array1  [0 1 2 3 4 5 6]\n",
      "array2  [1.0, 2.0, 3.0, 3.0, 3.0, 3.0, 3.0]\n",
      "power to the array1 and array 2 :  [  0.   1.   8.  27.  64. 125. 216.]\n"
     ]
    }
   ],
   "source": [
    "import pandas as pd\n",
    "import numpy as np\n",
    "\n",
    "sample_array1 = np.arange(7)\n",
    "\n",
    "# initialization the decimal number\n",
    "sample_array2 = [1.0, 2.0, 3.0, 3.0, 3.0, 3.0, 3.0]\n",
    "\n",
    "print(\"Original array \")\n",
    "print(\"array1 \", sample_array1)\n",
    "print(\"array2 \", sample_array2)\n",
    "\n",
    "# calculating element-wise power\n",
    "#The pow() function returns the value of x to the power of y i.e (xy).\n",
    "power_array = np.power(sample_array1, sample_array2)\n",
    "\n",
    "print(\"power to the array1 and array 2 : \", power_array)\n"
   ]
  },
  {
   "cell_type": "markdown",
   "metadata": {},
   "source": [
    "5. Write a Python program to create and display a DataFrame from a specified dictionary\n",
    "data which has the index labels."
   ]
  },
  {
   "cell_type": "code",
   "execution_count": 2,
   "metadata": {},
   "outputs": [
    {
     "name": "stdout",
     "output_type": "stream",
     "text": [
      "   Customer Name  Marks  Trails Qualified\n",
      "10     Anastasia   12.5       1       yes\n",
      "9           Dima    9.0       3        no\n",
      "8      Katherine   16.5       2       yes\n",
      "7          James    NaN       3        no\n",
      "6          Emily    9.0       2        no\n",
      "5        Michael   20.0       3       yes\n",
      "4        Matthew   14.5       1       yes\n",
      "3          Laura    NaN       1        no\n",
      "2          Kevin    8.0       2        no\n",
      "1          Jonas   19.0       1       yes\n"
     ]
    }
   ],
   "source": [
    "import pandas as pd\n",
    "import numpy as np\n",
    "\n",
    "exam_result  = {'Customer Name': ['Anastasia', 'Dima', 'Katherine', 'James', 'Emily', 'Michael', 'Matthew', 'Laura', 'Kevin', 'Jonas'],\n",
    "              'Marks': [12.5, 9, 16.5, np.nan, 9, 20, 14.5, np.nan, 8, 19],\n",
    "              'Trails': [1, 3, 2, 3, 2, 3, 1, 1, 2, 1],\n",
    "              'Qualified': ['yes', 'no', 'yes', 'no', 'no', 'yes', 'yes', 'no', 'no', 'yes']}\n",
    "order = [10,9,8,7,6,5,4,3,2,1]\n",
    "\n",
    "df = pd.DataFrame(exam_result , index=order)\n",
    "print(df)"
   ]
  },
  {
   "cell_type": "markdown",
   "metadata": {},
   "source": [
    "6. Write a Python program to display a summary of the basic information about a\n",
    "specified Data Frame and its data."
   ]
  },
  {
   "cell_type": "code",
   "execution_count": 23,
   "metadata": {},
   "outputs": [
    {
     "name": "stdout",
     "output_type": "stream",
     "text": [
      "   Customer Name  Marks  Trails Qualified\n",
      "10     Anastasia   12.5       1       yes\n",
      "9           Dima    9.0       3        no\n",
      "8      Katherine   16.5       2       yes\n",
      "7          James    NaN       3        no\n",
      "6          Emily    9.0       2        no\n",
      "5        Michael   20.0       3       yes\n",
      "4        Matthew   14.5       1       yes\n",
      "3          Laura    NaN       1        no\n",
      "2          Kevin    8.0       2        no\n",
      "1          Jonas   19.0       1       yes\n",
      "Summary of the basic information about this DataFrame and its data:\n",
      "<class 'pandas.core.frame.DataFrame'>\n",
      "Int64Index: 10 entries, 10 to 1\n",
      "Data columns (total 4 columns):\n",
      " #   Column         Non-Null Count  Dtype  \n",
      "---  ------         --------------  -----  \n",
      " 0   Customer Name  10 non-null     object \n",
      " 1   Marks          8 non-null      float64\n",
      " 2   Trails         10 non-null     int64  \n",
      " 3   Qualified      10 non-null     object \n",
      "dtypes: float64(1), int64(1), object(2)\n",
      "memory usage: 400.0+ bytes\n",
      "None\n"
     ]
    }
   ],
   "source": [
    "import pandas as pd\n",
    "import numpy as np\n",
    "\n",
    "exam_result  = {'Customer Name': ['Anastasia', 'Dima', 'Katherine', 'James', 'Emily', 'Michael', 'Matthew', 'Laura', 'Kevin', 'Jonas'],\n",
    "              'Marks': [12.5, 9, 16.5, np.nan, 9, 20, 14.5, np.nan, 8, 19],\n",
    "              'Trails': [1, 3, 2, 3, 2, 3, 1, 1, 2, 1],\n",
    "              'Qualified': ['yes', 'no', 'yes', 'no', 'no', 'yes', 'yes', 'no', 'no', 'yes']}\n",
    "order = [10,9,8,7,6,5,4,3,2,1]\n",
    "\n",
    "df = pd.DataFrame(exam_result , index=order)\n",
    "print(df)\n",
    "print(\"Summary of the basic information about this DataFrame and its data:\")\n",
    "#The info() method prints information about the DataFrame.\n",
    "#The information contains the number of columns, column labels, column data types, memory usage, range index\n",
    "#and the number of cells in each column (non-null values).\n",
    "print(df.info())"
   ]
  },
  {
   "cell_type": "markdown",
   "metadata": {},
   "source": [
    "7. Write a Python program to get the first 3 rows of a given DataFrame.\n",
    "Sample Python dictionary data and list labels:"
   ]
  },
  {
   "cell_type": "code",
   "execution_count": 24,
   "metadata": {},
   "outputs": [
    {
     "name": "stdout",
     "output_type": "stream",
     "text": [
      "First three rows of the data frame:\n",
      "   Customer Name  Marks  Trails Qualified\n",
      "10     Anastasia   12.5       1       yes\n",
      "9           Dima    9.0       3        no\n",
      "8      Katherine   16.5       2       yes\n"
     ]
    }
   ],
   "source": [
    "import pandas as pd\n",
    "import numpy as np\n",
    "\n",
    "exam_result  = {'Customer Name': ['Anastasia', 'Dima', 'Katherine', 'James', 'Emily', 'Michael', 'Matthew', 'Laura', 'Kevin', 'Jonas'],\n",
    "              'Marks': [12.5, 9, 16.5, np.nan, 9, 20, 14.5, np.nan, 8, 19],\n",
    "              'Trails': [1, 3, 2, 3, 2, 3, 1, 1, 2, 1],\n",
    "              'Qualified': ['yes', 'no', 'yes', 'no', 'no', 'yes', 'yes', 'no', 'no', 'yes']}\n",
    "order = [10,9,8,7,6,5,4,3,2,1]\n",
    "\n",
    "df = pd.DataFrame(exam_result , index=order)\n",
    "#loc selects rows and columns with specific labels\n",
    "#iloc selects rows and columns at specific integer positions\n",
    "print(\"First three rows of the data frame:\")\n",
    "print(df.iloc[:3])\n",
    "#df.head(3)"
   ]
  },
  {
   "cell_type": "markdown",
   "metadata": {},
   "source": [
    "8. Write a Python program to select the 'Customer Name' and 'Marks' columns from the following\n",
    "DataFrame."
   ]
  },
  {
   "cell_type": "code",
   "execution_count": 25,
   "metadata": {},
   "outputs": [
    {
     "name": "stdout",
     "output_type": "stream",
     "text": [
      "Name and Score Columns:\n",
      "   Customer Name  Marks\n",
      "10     Anastasia   12.5\n",
      "9           Dima    9.0\n",
      "8      Katherine   16.5\n",
      "7          James    NaN\n",
      "6          Emily    9.0\n",
      "5        Michael   20.0\n",
      "4        Matthew   14.5\n",
      "3          Laura    NaN\n",
      "2          Kevin    8.0\n",
      "1          Jonas   19.0\n"
     ]
    }
   ],
   "source": [
    "import pandas as pd\n",
    "import numpy as np\n",
    "\n",
    "exam_result  = {'Customer Name': ['Anastasia', 'Dima', 'Katherine', 'James', 'Emily', 'Michael', 'Matthew', 'Laura', 'Kevin', 'Jonas'],\n",
    "              'Marks': [12.5, 9, 16.5, np.nan, 9, 20, 14.5, np.nan, 8, 19],\n",
    "              'Trails': [1, 3, 2, 3, 2, 3, 1, 1, 2, 1],\n",
    "              'Qualified': ['yes', 'no', 'yes', 'no', 'no', 'yes', 'yes', 'no', 'no', 'yes']}\n",
    "order = [10,9,8,7,6,5,4,3,2,1]\n",
    "\n",
    "df = pd.DataFrame(exam_result , index=order)\n",
    "print(\"Name and Score Columns:\")\n",
    "print(df[['Customer Name', 'Marks']])"
   ]
  },
  {
   "cell_type": "markdown",
   "metadata": {},
   "source": [
    "9. Write a Python program to select the specified columns and rows from a given data\n",
    "frame.\n",
    "Select 'Customer Nam' and 'Marks' columns in rows 1, 3, 5, 6 from the following data frame."
   ]
  },
  {
   "cell_type": "code",
   "execution_count": 27,
   "metadata": {},
   "outputs": [
    {
     "name": "stdout",
     "output_type": "stream",
     "text": [
      "Select specific columns and rows:\n",
      "  Customer Name  Marks\n",
      "9          Dima    9.0\n",
      "7         James    NaN\n",
      "5       Michael   20.0\n",
      "4       Matthew   14.5\n"
     ]
    }
   ],
   "source": [
    "import pandas as pd\n",
    "import numpy as np\n",
    "\n",
    "exam_result  = {'Customer Name': ['Anastasia', 'Dima', 'Katherine', 'James', 'Emily', 'Michael', 'Matthew', 'Laura', 'Kevin', 'Jonas'],\n",
    "              'Marks': [12.5, 9, 16.5, np.nan, 9, 20, 14.5, np.nan, 8, 19],\n",
    "              'Trails': [1, 3, 2, 3, 2, 3, 1, 1, 2, 1],\n",
    "              'Qualified': ['yes', 'no', 'yes', 'no', 'no', 'yes', 'yes', 'no', 'no', 'yes']}\n",
    "order = [10,9,8,7,6,5,4,3,2,1]\n",
    "\n",
    "df = pd.DataFrame(exam_result , index=order)\n",
    "print(\"Select specific columns and rows:\")\n",
    "              #row index    #column index\n",
    "print(df.iloc[[1, 3, 5, 6], [0, 1]])"
   ]
  },
  {
   "cell_type": "markdown",
   "metadata": {},
   "source": [
    "10. Write a Python program to select the rows where the number of attempts in the\n",
    "examination is greater than 2."
   ]
  },
  {
   "cell_type": "code",
   "execution_count": 28,
   "metadata": {},
   "outputs": [
    {
     "data": {
      "text/html": [
       "<div>\n",
       "<style scoped>\n",
       "    .dataframe tbody tr th:only-of-type {\n",
       "        vertical-align: middle;\n",
       "    }\n",
       "\n",
       "    .dataframe tbody tr th {\n",
       "        vertical-align: top;\n",
       "    }\n",
       "\n",
       "    .dataframe thead th {\n",
       "        text-align: right;\n",
       "    }\n",
       "</style>\n",
       "<table border=\"1\" class=\"dataframe\">\n",
       "  <thead>\n",
       "    <tr style=\"text-align: right;\">\n",
       "      <th></th>\n",
       "      <th>Customer Name</th>\n",
       "      <th>Marks</th>\n",
       "      <th>Trails</th>\n",
       "      <th>Qualified</th>\n",
       "    </tr>\n",
       "  </thead>\n",
       "  <tbody>\n",
       "    <tr>\n",
       "      <th>9</th>\n",
       "      <td>Dima</td>\n",
       "      <td>9.0</td>\n",
       "      <td>3</td>\n",
       "      <td>no</td>\n",
       "    </tr>\n",
       "    <tr>\n",
       "      <th>7</th>\n",
       "      <td>James</td>\n",
       "      <td>NaN</td>\n",
       "      <td>3</td>\n",
       "      <td>no</td>\n",
       "    </tr>\n",
       "    <tr>\n",
       "      <th>5</th>\n",
       "      <td>Michael</td>\n",
       "      <td>20.0</td>\n",
       "      <td>3</td>\n",
       "      <td>yes</td>\n",
       "    </tr>\n",
       "  </tbody>\n",
       "</table>\n",
       "</div>"
      ],
      "text/plain": [
       "  Customer Name  Marks  Trails Qualified\n",
       "9          Dima    9.0       3        no\n",
       "7         James    NaN       3        no\n",
       "5       Michael   20.0       3       yes"
      ]
     },
     "execution_count": 28,
     "metadata": {},
     "output_type": "execute_result"
    }
   ],
   "source": [
    "import pandas as pd\n",
    "import numpy as np\n",
    "\n",
    "exam_result  = {'Customer Name': ['Anastasia', 'Dima', 'Katherine', 'James', 'Emily', 'Michael', 'Matthew', 'Laura', 'Kevin', 'Jonas'],\n",
    "              'Marks': [12.5, 9, 16.5, np.nan, 9, 20, 14.5, np.nan, 8, 19],\n",
    "              'Trails': [1, 3, 2, 3, 2, 3, 1, 1, 2, 1],\n",
    "              'Qualified': ['yes', 'no', 'yes', 'no', 'no', 'yes', 'yes', 'no', 'no', 'yes']}\n",
    "order = [10,9,8,7,6,5,4,3,2,1]\n",
    "\n",
    "df = pd.DataFrame(exam_result , index=order)\n",
    "df[df['Trails']>2]"
   ]
  },
  {
   "cell_type": "markdown",
   "metadata": {},
   "source": [
    "11. Write a Python program to count the number of rows and columns of a DataFrame."
   ]
  },
  {
   "cell_type": "code",
   "execution_count": 29,
   "metadata": {},
   "outputs": [
    {
     "name": "stdout",
     "output_type": "stream",
     "text": [
      "Int64Index([10, 9, 8, 7, 6, 5, 4, 3, 2, 1], dtype='int64')\n",
      "Index(['Customer Name', 'Marks', 'Trails', 'Qualified'], dtype='object')\n",
      "Number of Rows: 10\n",
      "Number of Columns: 4\n"
     ]
    }
   ],
   "source": [
    "import pandas as pd\n",
    "import numpy as np\n",
    "\n",
    "exam_result  = {'Customer Name': ['Anastasia', 'Dima', 'Katherine', 'James', 'Emily', 'Michael', 'Matthew', 'Laura', 'Kevin', 'Jonas'],\n",
    "              'Marks': [12.5, 9, 16.5, np.nan, 9, 20, 14.5, np.nan, 8, 19],\n",
    "              'Trails': [1, 3, 2, 3, 2, 3, 1, 1, 2, 1],\n",
    "              'Qualified': ['yes', 'no', 'yes', 'no', 'no', 'yes', 'yes', 'no', 'no', 'yes']}\n",
    "order = [10,9,8,7,6,5,4,3,2,1]\n",
    "\n",
    "df = pd.DataFrame(exam_result , index=order)\n",
    "#A DataFrame object has two axes: “axis 0” and “axis 1”. “axis 0” represents rows and “axis 1” represents columns.\n",
    "print(df.axes[0])\n",
    "print(df.axes[1])\n",
    "print(\"Number of Rows: \"+str(len(df.axes[0])))\n",
    "print(\"Number of Columns: \"+str(len(df.axes[1])))"
   ]
  },
  {
   "cell_type": "markdown",
   "metadata": {},
   "source": [
    "12. Write a Python program to select the rows where the marks is missing, i.e. is NaN."
   ]
  },
  {
   "cell_type": "code",
   "execution_count": 31,
   "metadata": {},
   "outputs": [
    {
     "name": "stdout",
     "output_type": "stream",
     "text": [
      "Rows where score is missing:\n",
      "  Customer Name  Marks  Trails Qualified\n",
      "7         James    NaN       3        no\n",
      "3         Laura    NaN       1        no\n"
     ]
    }
   ],
   "source": [
    "import pandas as pd\n",
    "import numpy as np\n",
    "\n",
    "exam_result  = {'Customer Name': ['Anastasia', 'Dima', 'Katherine', 'James', 'Emily', 'Michael', 'Matthew', 'Laura', 'Kevin', 'Jonas'],\n",
    "              'Marks': [12.5, 9, 16.5, np.nan, 9, 20, 14.5, np.nan, 8, 19],\n",
    "              'Trails': [1, 3, 2, 3, 2, 3, 1, 1, 2, 1],\n",
    "              'Qualified': ['yes', 'no', 'yes', 'no', 'no', 'yes', 'yes', 'no', 'no', 'yes']}\n",
    "order = [10,9,8,7,6,5,4,3,2,1]\n",
    "\n",
    "df = pd.DataFrame(exam_result , index=order)\n",
    "print(\"Rows where score is missing:\")\n",
    "#Replace all values in the DataFrame with True for NULL values, otherwise False:\n",
    "print(df[df['Marks'].isnull()])"
   ]
  },
  {
   "cell_type": "markdown",
   "metadata": {},
   "source": [
    "13. Write a Python program to select the rows where number of trails in the\n",
    "examination is less than 2 and marks greater than 15."
   ]
  },
  {
   "cell_type": "code",
   "execution_count": 32,
   "metadata": {},
   "outputs": [
    {
     "name": "stdout",
     "output_type": "stream",
     "text": [
      "Number of attempts in the examination is less than 2 and score greater than 15 :\n",
      "  Customer Name  Marks  Trails Qualified\n",
      "1         Jonas   19.0       1       yes\n"
     ]
    }
   ],
   "source": [
    "exam_result  = {'Customer Name': ['Anastasia', 'Dima', 'Katherine', 'James', 'Emily', 'Michael', 'Matthew', 'Laura', 'Kevin', 'Jonas'],\n",
    "              'Marks': [12.5, 9, 16.5, np.nan, 9, 20, 14.5, np.nan, 8, 19],\n",
    "              'Trails': [1, 3, 2, 3, 2, 3, 1, 1, 2, 1],\n",
    "              'Qualified': ['yes', 'no', 'yes', 'no', 'no', 'yes', 'yes', 'no', 'no', 'yes']}\n",
    "order = [10,9,8,7,6,5,4,3,2,1]\n",
    "df = pd.DataFrame(exam_result , index=order)\n",
    "print(\"Number of attempts in the examination is less than 2 and score greater than 15 :\")\n",
    "print(df[(df['Trails'] < 2) & (df['Marks'] > 15)])"
   ]
  },
  {
   "cell_type": "markdown",
   "metadata": {},
   "source": [
    "14. Write a Python program to change the score in row '7' to 11.5."
   ]
  },
  {
   "cell_type": "code",
   "execution_count": 33,
   "metadata": {},
   "outputs": [
    {
     "name": "stdout",
     "output_type": "stream",
     "text": [
      "\n",
      "Original data frame:\n",
      "   Customer Name  Marks  Trails Qualified\n",
      "10     Anastasia   12.5       1       yes\n",
      "9           Dima    9.0       3        no\n",
      "8      Katherine   16.5       2       yes\n",
      "7          James    NaN       3        no\n",
      "6          Emily    9.0       2        no\n",
      "5        Michael   20.0       3       yes\n",
      "4        Matthew   14.5       1       yes\n",
      "3          Laura    NaN       1        no\n",
      "2          Kevin    8.0       2        no\n",
      "1          Jonas   19.0       1       yes\n",
      "\n",
      "Change the marks in row '7' to 11.5:\n",
      "   Customer Name  Marks  Trails Qualified\n",
      "10     Anastasia   12.5       1       yes\n",
      "9           Dima    9.0       3        no\n",
      "8      Katherine   16.5       2       yes\n",
      "7          James   11.5       3        no\n",
      "6          Emily    9.0       2        no\n",
      "5        Michael   20.0       3       yes\n",
      "4        Matthew   14.5       1       yes\n",
      "3          Laura    NaN       1        no\n",
      "2          Kevin    8.0       2        no\n",
      "1          Jonas   19.0       1       yes\n"
     ]
    }
   ],
   "source": [
    "exam_result  = {'Customer Name': ['Anastasia', 'Dima', 'Katherine', 'James', 'Emily', 'Michael', 'Matthew', 'Laura', 'Kevin', 'Jonas'],\n",
    "              'Marks': [12.5, 9, 16.5, np.nan, 9, 20, 14.5, np.nan, 8, 19],\n",
    "              'Trails': [1, 3, 2, 3, 2, 3, 1, 1, 2, 1],\n",
    "              'Qualified': ['yes', 'no', 'yes', 'no', 'no', 'yes', 'yes', 'no', 'no', 'yes']}\n",
    "order = [10,9,8,7,6,5,4,3,2,1]\n",
    "df = pd.DataFrame(exam_result , index=order)\n",
    "print(\"\\nOriginal data frame:\")\n",
    "print(df)\n",
    "print(\"\\nChange the marks in row '7' to 11.5:\")\n",
    "      #row index #column index\n",
    "      #for labels loc for integers(indexes) iloc.\n",
    "df.loc[7, 'Marks'] = 11.5\n",
    "print(df)"
   ]
  },
  {
   "cell_type": "markdown",
   "metadata": {},
   "source": [
    "15. Write a Python program to calculate the sum of the examination trails by the\n",
    "students."
   ]
  },
  {
   "cell_type": "code",
   "execution_count": 34,
   "metadata": {},
   "outputs": [
    {
     "name": "stdout",
     "output_type": "stream",
     "text": [
      "\n",
      "Sum of the examination attempts by the students:\n",
      "19\n"
     ]
    }
   ],
   "source": [
    "exam_result  = {'Customer Name': ['Anastasia', 'Dima', 'Katherine', 'James', 'Emily', 'Michael', 'Matthew', 'Laura', 'Kevin', 'Jonas'],\n",
    "              'Marks': [12.5, 9, 16.5, np.nan, 9, 20, 14.5, np.nan, 8, 19],\n",
    "              'Trails': [1, 3, 2, 3, 2, 3, 1, 1, 2, 1],\n",
    "              'Qualified': ['yes', 'no', 'yes', 'no', 'no', 'yes', 'yes', 'no', 'no', 'yes']}\n",
    "order = [10,9,8,7,6,5,4,3,2,1]\n",
    "df = pd.DataFrame(exam_result , index=order)\n",
    "print(\"\\nSum of the examination attempts by the students:\")\n",
    "#The sum() function returns a number, the sum of all items in an iterable.\n",
    "print(df['Trails'].sum())"
   ]
  },
  {
   "cell_type": "markdown",
   "metadata": {},
   "source": [
    "16. Write a Python program to calculate the mean score for each different student in\n",
    "DataFrame."
   ]
  },
  {
   "cell_type": "code",
   "execution_count": 35,
   "metadata": {},
   "outputs": [
    {
     "name": "stdout",
     "output_type": "stream",
     "text": [
      "\n",
      "Mean score for each different student in data frame:\n",
      "13.5625\n"
     ]
    }
   ],
   "source": [
    "exam_result  = {'Customer Name': ['Anastasia', 'Dima', 'Katherine', 'James', 'Emily', 'Michael', 'Matthew', 'Laura', 'Kevin', 'Jonas'],\n",
    "              'Marks': [12.5, 9, 16.5, np.nan, 9, 20, 14.5, np.nan, 8, 19],\n",
    "              'Trails': [1, 3, 2, 3, 2, 3, 1, 1, 2, 1],\n",
    "              'Qualified': ['yes', 'no', 'yes', 'no', 'no', 'yes', 'yes', 'no', 'no', 'yes']}\n",
    "order = [10,9,8,7,6,5,4,3,2,1]\n",
    "df = pd.DataFrame(exam_result , index=order)\n",
    "print(\"\\nMean score for each different student in data frame:\")\n",
    "#mean() function can be used to calculate mean/average of a given list of numbers.\n",
    "print(df['Marks'].mean())"
   ]
  },
  {
   "cell_type": "markdown",
   "metadata": {},
   "source": [
    "17. Write a Python program to append a new row 'k' to data frame with given values for\n",
    "each column. Now delete the new row and return the original DataFrame."
   ]
  },
  {
   "cell_type": "code",
   "execution_count": 36,
   "metadata": {},
   "outputs": [
    {
     "name": "stdout",
     "output_type": "stream",
     "text": [
      "Original rows:\n",
      "   Customer Name  Marks  Trails Qualified\n",
      "10     Anastasia   12.5       1       yes\n",
      "9           Dima    9.0       3        no\n",
      "8      Katherine   16.5       2       yes\n",
      "7          James    NaN       3        no\n",
      "6          Emily    9.0       2        no\n",
      "5        Michael   20.0       3       yes\n",
      "4        Matthew   14.5       1       yes\n",
      "3          Laura    NaN       1        no\n",
      "2          Kevin    8.0       2        no\n",
      "1          Jonas   19.0       1       yes\n",
      "\n",
      "Append a new row:\n",
      "Print all records after insert a new record:\n",
      "   Customer Name   Marks Trails Qualified\n",
      "10     Anastasia    12.5      1       yes\n",
      "9           Dima     9.0      3        no\n",
      "8      Katherine    16.5      2       yes\n",
      "7          James     NaN      3        no\n",
      "6          Emily     9.0      2        no\n",
      "5        Michael    20.0      3       yes\n",
      "4        Matthew    14.5      1       yes\n",
      "3          Laura     NaN      1        no\n",
      "2          Kevin     8.0      2        no\n",
      "1          Jonas    19.0      1       yes\n",
      "k              1  Suresh    yes      15.5\n"
     ]
    }
   ],
   "source": [
    "exam_result  = {'Customer Name': ['Anastasia', 'Dima', 'Katherine', 'James', 'Emily', 'Michael', 'Matthew', 'Laura', 'Kevin', 'Jonas'],\n",
    "              'Marks': [12.5, 9, 16.5, np.nan, 9, 20, 14.5, np.nan, 8, 19],\n",
    "              'Trails': [1, 3, 2, 3, 2, 3, 1, 1, 2, 1],\n",
    "              'Qualified': ['yes', 'no', 'yes', 'no', 'no', 'yes', 'yes', 'no', 'no', 'yes']}\n",
    "order = [10,9,8,7,6,5,4,3,2,1]\n",
    "df = pd.DataFrame(exam_result , index=order)\n",
    "print(\"Original rows:\")\n",
    "print(df)\n",
    "print(\"\\nAppend a new row:\")\n",
    "df.loc['k'] = [1, 'Suresh', 'yes', 15.5]\n",
    "print(\"Print all records after insert a new record:\")\n",
    "print(df)"
   ]
  },
  {
   "cell_type": "code",
   "execution_count": 37,
   "metadata": {},
   "outputs": [
    {
     "name": "stdout",
     "output_type": "stream",
     "text": [
      "\n",
      "Delete the new row and display the original  rows:\n",
      "   Customer Name Marks Trails Qualified\n",
      "10     Anastasia  12.5      1       yes\n",
      "9           Dima   9.0      3        no\n",
      "8      Katherine  16.5      2       yes\n",
      "7          James   NaN      3        no\n",
      "6          Emily   9.0      2        no\n",
      "5        Michael  20.0      3       yes\n",
      "4        Matthew  14.5      1       yes\n",
      "3          Laura   NaN      1        no\n",
      "2          Kevin   8.0      2        no\n",
      "1          Jonas  19.0      1       yes\n"
     ]
    }
   ],
   "source": [
    "print(\"\\nDelete the new row and display the original  rows:\")\n",
    "df = df.drop('k')\n",
    "print(df)"
   ]
  },
  {
   "cell_type": "markdown",
   "metadata": {},
   "source": [
    "18. Write a Python program to sort the DataFrame first by 'Customer Name' in descending order,\n",
    "then by 'Marks' in ascending order"
   ]
  },
  {
   "cell_type": "code",
   "execution_count": 38,
   "metadata": {},
   "outputs": [
    {
     "name": "stdout",
     "output_type": "stream",
     "text": [
      "Before Sorting:\n",
      "   Customer Name  Marks  Trails Qualified\n",
      "10     Anastasia   12.5       1       yes\n",
      "9           Dima    9.0       3        no\n",
      "8      Katherine   16.5       2       yes\n",
      "7          James    NaN       3        no\n",
      "6          Emily    9.0       2        no\n",
      "5        Michael   20.0       3       yes\n",
      "4        Matthew   14.5       1       yes\n",
      "3          Laura    NaN       1        no\n",
      "2          Kevin    8.0       2        no\n",
      "1          Jonas   19.0       1       yes\n",
      "Sort the data frame first by Customer Name in descending order, then by Marks in ascending order:\n",
      "   Customer Name  Marks  Trails Qualified\n",
      "5        Michael   20.0       3       yes\n",
      "4        Matthew   14.5       1       yes\n",
      "3          Laura    NaN       1        no\n",
      "2          Kevin    8.0       2        no\n",
      "8      Katherine   16.5       2       yes\n",
      "1          Jonas   19.0       1       yes\n",
      "7          James    NaN       3        no\n",
      "6          Emily    9.0       2        no\n",
      "9           Dima    9.0       3        no\n",
      "10     Anastasia   12.5       1       yes\n"
     ]
    }
   ],
   "source": [
    "exam_result  = {'Customer Name': ['Anastasia', 'Dima', 'Katherine', 'James', 'Emily', 'Michael', 'Matthew', 'Laura', 'Kevin', 'Jonas'],\n",
    "              'Marks': [12.5, 9, 16.5, np.nan, 9, 20, 14.5, np.nan, 8, 19],\n",
    "            \n",
    "              'Trails': [1, 3, 2, 3, 2, 3, 1, 1, 2, 1],\n",
    "              'Qualified': ['yes', 'no', 'yes', 'no', 'no', 'yes', 'yes', 'no', 'no', 'yes']}\n",
    "order = [10,9,8,7,6,5,4,3,2,1]\n",
    "df = pd.DataFrame(exam_result , index=order)\n",
    "print(\"Before Sorting:\")\n",
    "print(df)\n",
    "df=df.sort_values(by=['Customer Name', 'Marks'], ascending=[False, True])\n",
    "print(\"Sort the data frame first by Customer Name in descending order, then by Marks in ascending order:\")\n",
    "print(df)"
   ]
  },
  {
   "cell_type": "markdown",
   "metadata": {},
   "source": [
    "19. Write a Python program to replace the 'qualify' column contains the values 'yes' and\n",
    "'no' with True and False."
   ]
  },
  {
   "cell_type": "code",
   "execution_count": 39,
   "metadata": {},
   "outputs": [
    {
     "name": "stdout",
     "output_type": "stream",
     "text": [
      "Original rows:\n",
      "   Customer Name  Marks  Trails Qualified\n",
      "10     Anastasia   12.5       1       yes\n",
      "9           Dima    9.0       3        no\n",
      "8      Katherine   16.5       2       yes\n",
      "7          James    NaN       3        no\n",
      "6          Emily    9.0       2        no\n",
      "5        Michael   20.0       3       yes\n",
      "4        Matthew   14.5       1       yes\n",
      "3          Laura    NaN       1        no\n",
      "2          Kevin    8.0       2        no\n",
      "1          Jonas   19.0       1       yes\n",
      "\n",
      "Delete the 'Qualified' column from the data frame:\n",
      "   Customer Name  Marks  Trails\n",
      "10     Anastasia   12.5       1\n",
      "9           Dima    9.0       3\n",
      "8      Katherine   16.5       2\n",
      "7          James    NaN       3\n",
      "6          Emily    9.0       2\n",
      "5        Michael   20.0       3\n",
      "4        Matthew   14.5       1\n",
      "3          Laura    NaN       1\n",
      "2          Kevin    8.0       2\n",
      "1          Jonas   19.0       1\n"
     ]
    }
   ],
   "source": [
    "exam_result  = {'Customer Name': ['Anastasia', 'Dima', 'Katherine', 'James', 'Emily', 'Michael', 'Matthew', 'Laura', 'Kevin', 'Jonas'],\n",
    "              'Marks': [12.5, 9, 16.5, np.nan, 9, 20, 14.5, np.nan, 8, 19],\n",
    "              'Trails': [1, 3, 2, 3, 2, 3, 1, 1, 2, 1],\n",
    "              'Qualified': ['yes', 'no', 'yes', 'no', 'no', 'yes', 'yes', 'no', 'no', 'yes']}\n",
    "order = [10,9,8,7,6,5,4,3,2,1]\n",
    "df = pd.DataFrame(exam_result , index=order)\n",
    "print(\"Original rows:\")\n",
    "print(df)\n",
    "print(\"\\nDelete the 'Qualified' column from the data frame:\")\n",
    "df=df.drop('Qualified', axis = 1)\n",
    "print(df)"
   ]
  },
  {
   "cell_type": "markdown",
   "metadata": {},
   "source": [
    "20. Write a Python program to delete the 'Trails' column from the DataFrame."
   ]
  },
  {
   "cell_type": "code",
   "execution_count": 40,
   "metadata": {},
   "outputs": [
    {
     "name": "stdout",
     "output_type": "stream",
     "text": [
      "Original rows:\n",
      "   Customer Name  Marks  Trails Qualified\n",
      "10     Anastasia   12.5       1       yes\n",
      "9           Dima    9.0       3        no\n",
      "8      Katherine   16.5       2       yes\n",
      "7          James    NaN       3        no\n",
      "6          Emily    9.0       2        no\n",
      "5        Michael   20.0       3       yes\n",
      "4        Matthew   14.5       1       yes\n",
      "3          Laura    NaN       1        no\n",
      "2          Kevin    8.0       2        no\n",
      "1          Jonas   19.0       1       yes\n",
      "\n",
      "Delete the 'Trails' column from the data frame:\n",
      "   Customer Name  Marks Qualified\n",
      "10     Anastasia   12.5       yes\n",
      "9           Dima    9.0        no\n",
      "8      Katherine   16.5       yes\n",
      "7          James    NaN        no\n",
      "6          Emily    9.0        no\n",
      "5        Michael   20.0       yes\n",
      "4        Matthew   14.5       yes\n",
      "3          Laura    NaN        no\n",
      "2          Kevin    8.0        no\n",
      "1          Jonas   19.0       yes\n"
     ]
    }
   ],
   "source": [
    "exam_result  = {'Customer Name': ['Anastasia', 'Dima', 'Katherine', 'James', 'Emily', 'Michael', 'Matthew', 'Laura', 'Kevin', 'Jonas'],\n",
    "              'Marks': [12.5, 9, 16.5, np.nan, 9, 20, 14.5, np.nan, 8, 19],\n",
    "              'Trails': [1, 3, 2, 3, 2, 3, 1, 1, 2, 1],\n",
    "              'Qualified': ['yes', 'no', 'yes', 'no', 'no', 'yes', 'yes', 'no', 'no', 'yes']}\n",
    "order = [10,9,8,7,6,5,4,3,2,1]\n",
    "df = pd.DataFrame(exam_result , index=order)\n",
    "print(\"Original rows:\")\n",
    "print(df)\n",
    "print(\"\\nDelete the 'Trails' column from the data frame:\")\n",
    "df=df.drop('Trails', axis = 1)\n",
    "print(df)"
   ]
  },
  {
   "cell_type": "markdown",
   "metadata": {},
   "source": [
    "21. Write a Python program to insert a new column in existing DataFrame."
   ]
  },
  {
   "cell_type": "code",
   "execution_count": 42,
   "metadata": {},
   "outputs": [
    {
     "name": "stdout",
     "output_type": "stream",
     "text": [
      "Original rows:\n",
      "   Customer Name  Marks  Trails Qualified\n",
      "10     Anastasia   12.5       1       yes\n",
      "9           Dima    9.0       3        no\n",
      "8      Katherine   16.5       2       yes\n",
      "7          James    NaN       3        no\n",
      "6          Emily    9.0       2        no\n",
      "5        Michael   20.0       3       yes\n",
      "4        Matthew   14.5       1       yes\n",
      "3          Laura    NaN       1        no\n",
      "2          Kevin    8.0       2        no\n",
      "1          Jonas   19.0       1       yes\n",
      "\n",
      "New DataFrame after inserting the 'color' column\n",
      "   Customer Name  Marks  Trails Qualified   color\n",
      "10     Anastasia   12.5       1       yes     Red\n",
      "9           Dima    9.0       3        no    Blue\n",
      "8      Katherine   16.5       2       yes  Orange\n",
      "7          James    NaN       3        no     Red\n",
      "6          Emily    9.0       2        no   White\n",
      "5        Michael   20.0       3       yes   White\n",
      "4        Matthew   14.5       1       yes    Blue\n",
      "3          Laura    NaN       1        no   Green\n",
      "2          Kevin    8.0       2        no   Green\n",
      "1          Jonas   19.0       1       yes     Red\n"
     ]
    }
   ],
   "source": [
    "exam_result  = {'Customer Name': ['Anastasia', 'Dima', 'Katherine', 'James', 'Emily', 'Michael', 'Matthew', 'Laura', 'Kevin', 'Jonas'],\n",
    "              'Marks': [12.5, 9, 16.5, np.nan, 9, 20, 14.5, np.nan, 8, 19],\n",
    "              'Trails': [1, 3, 2, 3, 2, 3, 1, 1, 2, 1],\n",
    "              'Qualified': ['yes', 'no', 'yes', 'no', 'no', 'yes', 'yes', 'no', 'no', 'yes']}\n",
    "order = [10,9,8,7,6,5,4,3,2,1]\n",
    "df = pd.DataFrame(exam_result , index=order)\n",
    "print(\"Original rows:\")\n",
    "print(df)\n",
    "color = ['Red','Blue','Orange','Red','White','White','Blue','Green','Green','Red']\n",
    "df['color'] = color\n",
    "print(\"\\nNew DataFrame after inserting the 'color' column\")\n",
    "print(df)"
   ]
  },
  {
   "cell_type": "markdown",
   "metadata": {},
   "source": [
    "22. Write a Python program to iterate over rows in a DataFrame."
   ]
  },
  {
   "cell_type": "code",
   "execution_count": 44,
   "metadata": {},
   "outputs": [
    {
     "name": "stdout",
     "output_type": "stream",
     "text": [
      "Anastasia 12.5 1 yes\n",
      "Dima 9.0 3 no\n",
      "Katherine 16.5 2 yes\n",
      "James nan 3 no\n",
      "Emily 9.0 2 no\n",
      "Michael 20.0 3 yes\n",
      "Matthew 14.5 1 yes\n",
      "Laura nan 1 no\n",
      "Kevin 8.0 2 no\n",
      "Jonas 19.0 1 yes\n"
     ]
    }
   ],
   "source": [
    "exam_result  = {'Customer Name': ['Anastasia', 'Dima', 'Katherine', 'James', 'Emily', 'Michael', 'Matthew', 'Laura', 'Kevin', 'Jonas'],\n",
    "              'Marks': [12.5, 9, 16.5, np.nan, 9, 20, 14.5, np.nan, 8, 19],\n",
    "              'Trails': [1, 3, 2, 3, 2, 3, 1, 1, 2, 1],\n",
    "              'Qualified': ['yes', 'no', 'yes', 'no', 'no', 'yes', 'yes', 'no', 'no', 'yes']}\n",
    "order = [10,9,8,7,6,5,4,3,2,1]\n",
    "df = pd.DataFrame(exam_result , index=order)\n",
    "#iterrows():The iterrows() method generates an iterator object of the DataFrame, allowing us to iterate each row in the DataFrame.\n",
    "#Each iteration produces an index object and a row object (a Pandas Series object).\n",
    "for index, row in df.iterrows():\n",
    "    print(row['Customer Name'], row['Marks'], row['Trails'], row['Qualified'])"
   ]
  },
  {
   "cell_type": "markdown",
   "metadata": {},
   "source": [
    "23. Write a Python program to get list from DataFrame column headers."
   ]
  },
  {
   "cell_type": "code",
   "execution_count": 45,
   "metadata": {},
   "outputs": [
    {
     "name": "stdout",
     "output_type": "stream",
     "text": [
      "['Customer Name', 'Marks', 'Trails', 'Qualified']\n"
     ]
    }
   ],
   "source": [
    "exam_result  = {'Customer Name': ['Anastasia', 'Dima', 'Katherine', 'James', 'Emily', 'Michael', 'Matthew', 'Laura', 'Kevin', 'Jonas'],\n",
    "              'Marks': [12.5, 9, 16.5, np.nan, 9, 20, 14.5, np.nan, 8, 19],\n",
    "              'Trails': [1, 3, 2, 3, 2, 3, 1, 1, 2, 1],\n",
    "              'Qualified': ['yes', 'no', 'yes', 'no', 'no', 'yes', 'yes', 'no', 'no', 'yes']}\n",
    "order = [10,9,8,7,6,5,4,3,2,1]\n",
    "print(list(df.columns.values))"
   ]
  }
 ],
 "metadata": {
  "interpreter": {
   "hash": "5483e078827fd5c66acba84f1d0018e54d8c9d9b17fc81f555076c475d640063"
  },
  "kernelspec": {
   "display_name": "Python 3 (ipykernel)",
   "language": "python",
   "name": "python3"
  },
  "language_info": {
   "codemirror_mode": {
    "name": "ipython",
    "version": 3
   },
   "file_extension": ".py",
   "mimetype": "text/x-python",
   "name": "python",
   "nbconvert_exporter": "python",
   "pygments_lexer": "ipython3",
   "version": "3.9.7"
  }
 },
 "nbformat": 4,
 "nbformat_minor": 2
}
